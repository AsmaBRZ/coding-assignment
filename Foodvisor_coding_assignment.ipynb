{
  "nbformat": 4,
  "nbformat_minor": 0,
  "metadata": {
    "colab": {
      "name": "Foodvisor coding-assignment.ipynb",
      "provenance": [],
      "collapsed_sections": []
    },
    "kernelspec": {
      "name": "python3",
      "display_name": "Python 3"
    }
  },
  "cells": [
    {
      "cell_type": "code",
      "metadata": {
        "id": "VA4edc9bOFrZ",
        "outputId": "5f458fc0-8e51-45ac-85b9-d0526c73a784",
        "colab": {
          "base_uri": "https://localhost:8080/",
          "height": 34
        }
      },
      "source": [
        "!pip install -U -q PyDrive\n",
        "import json\n",
        "from pydrive.auth import GoogleAuth\n",
        "from pydrive.drive import GoogleDrive\n",
        "from google.colab import auth\n",
        "from oauth2client.client import GoogleCredentials\n",
        "\n",
        "from google.colab import drive\n",
        "\n",
        "drive.mount('/content/gdrive/')\n",
        "base_path='/content/gdrive/My Drive/'"
      ],
      "execution_count": 359,
      "outputs": [
        {
          "output_type": "stream",
          "text": [
            "Drive already mounted at /content/gdrive/; to attempt to forcibly remount, call drive.mount(\"/content/gdrive/\", force_remount=True).\n"
          ],
          "name": "stdout"
        }
      ]
    },
    {
      "cell_type": "code",
      "metadata": {
        "id": "wW3psitMa_-V",
        "outputId": "931d80e2-f9dd-436c-90f3-22424f699cce",
        "colab": {
          "base_uri": "https://localhost:8080/",
          "height": 121
        }
      },
      "source": [
        "!pip install -U anytree"
      ],
      "execution_count": 59,
      "outputs": [
        {
          "output_type": "stream",
          "text": [
            "Collecting anytree\n",
            "\u001b[?25l  Downloading https://files.pythonhosted.org/packages/a8/65/be23d8c3ecd68d40541d49812cd94ed0f3ee37eb88669ca15df0e43daed1/anytree-2.8.0-py2.py3-none-any.whl (41kB)\n",
            "\r\u001b[K     |███████▉                        | 10kB 15.9MB/s eta 0:00:01\r\u001b[K     |███████████████▊                | 20kB 1.6MB/s eta 0:00:01\r\u001b[K     |███████████████████████▋        | 30kB 1.8MB/s eta 0:00:01\r\u001b[K     |███████████████████████████████▍| 40kB 2.1MB/s eta 0:00:01\r\u001b[K     |████████████████████████████████| 51kB 1.6MB/s \n",
            "\u001b[?25hRequirement already satisfied, skipping upgrade: six>=1.9.0 in /usr/local/lib/python3.6/dist-packages (from anytree) (1.15.0)\n",
            "Installing collected packages: anytree\n",
            "Successfully installed anytree-2.8.0\n"
          ],
          "name": "stdout"
        }
      ]
    },
    {
      "cell_type": "code",
      "metadata": {
        "id": "YuHLdwsbTcA5"
      },
      "source": [
        "#!usr/bin/python\n",
        "import warnings\n",
        "# -*- coding: utf-8 -*-\n",
        "import numpy as np\n",
        "import anytree\n",
        "from anytree import Node, RenderTree\n",
        "\n",
        "\n",
        "class Database(object):\n",
        "  def __init__(self,node):\n",
        "    self.db = dict()\n",
        "    if type(node) != str:\n",
        "      raise TypeError(\"Node of a wrong type, please convert your node to string\")\n",
        "    self.root = Node(node)\n",
        "    #the dictionary \"update\" save the nodes extended with new children \n",
        "    self.update={}\n",
        "    #the init bool indicates if it is the first time we fill in the database in order not to take into account the update dict\n",
        "    self.init = True\n",
        "    self.status={0:'valid', 1:'granularity_staged', 2:'coverage_staged', 3:'invalid'}\n",
        "    \n",
        "  def add_nodes(self,nodes):   \n",
        "      for n in nodes:\n",
        "        #verify the dimension of the node\n",
        "        if np.array(n).shape != (2,) : \n",
        "          raise TypeError(\"Shape mismatch, the node shoud be a tuple of dimension (2,)\")\n",
        "\n",
        "        #search for the node's parent\n",
        "        p = anytree.search.findall(self.root, filter_=lambda node: node.name == (n[1]))\n",
        "\n",
        "        #raise an error if the node's parent does not exist\n",
        "        if len(p) == 0 :\n",
        "          raise TypeError(\"The parent of node \" + str(n[0]) + \" does not exist\")\n",
        "        \n",
        "        #search for the node whether it is already stored in the databse and make a warning if it is the case\n",
        "        c = anytree.search.findall(self.root, filter_=lambda node: node.name == (n[0]))\n",
        "        if len(c) != 0 :\n",
        "          warnings.warn(\"The node \" + str(n[0]) + \" already exists\")\n",
        "        else :  \n",
        "          #no error or anomaly occured, we can add the new nodde\n",
        "          p = p[0]\n",
        "          Node(n[0], parent=p)\n",
        "          #in order to use it in extract status to check whether the node has new children\n",
        "          if not self.init:\n",
        "            self.update[p.name] = 1\n",
        "\n",
        "      self.init=False\n",
        "      self.show()\n",
        "\n",
        "  \n",
        "  def add_extract(self,d):\n",
        "    #store the images in a dictionary\n",
        "    for k, v in d.items(): \n",
        "        self.db[k] = v  \n",
        "\n",
        "  def get_extract_status(self):\n",
        "    result = {}\n",
        "    for key,values in self.db.items():\n",
        "      result[key]=[]\n",
        "      #if the image has no label, lets consider it as valid\n",
        "      if len(values) == 0 : \n",
        "        result[key].append(0)\n",
        "      else:\n",
        "        for label in values:\n",
        "          #if the label does nont exist in the database => invalid label\n",
        "          p = anytree.search.findall(self.root, filter_=lambda node: node.name == (label))\n",
        "          if len(p) == 0 :\n",
        "            result[key].append(3)\n",
        "            continue\n",
        "\n",
        "          #check the number of my parent's childs\n",
        "          elif p[0].name != self.root.name and p[0].parent.name in self.update:\n",
        "            result[key].append(2)\n",
        "            continue\n",
        "          \n",
        "          #check if I have childrens\n",
        "          elif p[0].name in  self.update:\n",
        "            result[key].append(1)\n",
        "            continue\n",
        "          else:\n",
        "            result[key].append(0)\n",
        "      result[key]=self.status[np.max(np.array(result[key]))]\n",
        "    print(\"Result\",result)\n",
        "    self.update={}\n",
        "    return result\n",
        "\n",
        "  def show(self):\n",
        "    for pre, fill, node in RenderTree(self.root):\n",
        "        print(\"%s%s\" % (pre, node.name))"
      ],
      "execution_count": 413,
      "outputs": []
    },
    {
      "cell_type": "code",
      "metadata": {
        "id": "Utac0BubWJPA",
        "outputId": "7fc31fd8-9422-4705-e595-6014aee35213",
        "colab": {
          "base_uri": "https://localhost:8080/",
          "height": 278
        }
      },
      "source": [
        "# Initial graph\n",
        "build = [(\"core\", None), (\"A\", \"core\"), (\"B\", \"core\"), (\"C\", \"core\"), (\"C1\", \"C\")]\n",
        "# Extract\n",
        "extract = {\"img001\": [\"A\"], \"img002\": [\"C1\"]}\n",
        "# Graph edits\n",
        "edits = [(\"A1\", \"A\"), (\"A2\", \"A\")]\n",
        "if len(build) > 0:\n",
        "    # Build graph\n",
        "    print(\"Initial graph\")\n",
        "    db = Database(build[0][0])\n",
        "    if len(build) > 1:\n",
        "    \tdb.add_nodes(build[1:])\n",
        "    # Add extract\n",
        "    print(\"Edited graph\")\n",
        "    db.add_extract(extract)\n",
        "    # Graph edits\n",
        "    db.add_nodes(edits)\n",
        "    # Update status\n",
        "    status = db.get_extract_status()"
      ],
      "execution_count": 417,
      "outputs": [
        {
          "output_type": "stream",
          "text": [
            "Initial graph\n",
            "core\n",
            "├── A\n",
            "├── B\n",
            "└── C\n",
            "    └── C1\n",
            "Edited graph\n",
            "core\n",
            "├── A\n",
            "│   ├── A1\n",
            "│   └── A2\n",
            "├── B\n",
            "└── C\n",
            "    └── C1\n",
            "Result {'img001': 'granularity_staged', 'img002': 'valid'}\n"
          ],
          "name": "stdout"
        }
      ]
    },
    {
      "cell_type": "code",
      "metadata": {
        "id": "7LhqRTMlWQ16",
        "outputId": "e295d79a-1080-4108-8bfd-d9ea6510a881",
        "colab": {
          "base_uri": "https://localhost:8080/",
          "height": 295
        }
      },
      "source": [
        "# Initial graph\n",
        "build = [(\"core\", None), (\"A\", \"core\"), (\"B\", \"core\"), (\"C\", \"core\"), (\"C1\", \"C\")]\n",
        "# Extract\n",
        "extract = {\"img001\": [\"A\", \"B\"], \"img002\": [\"A\", \"C1\"], \"img003\": [\"B\", \"E\"]}\n",
        "# Graph edits\n",
        "edits = [(\"A1\", \"A\"), (\"A2\", \"A\"), (\"C2\", \"C\")]\n",
        "#self.status={0:'valid', 1:'granularity_staged', 2:'coverage_staged', 3:'invalid'}\n",
        "# Get status (this is only an example, test your code as you please as long as it works)\n",
        "status = {}\n",
        "if len(build) > 0:\n",
        "    # Build graph\n",
        "    print(\"Initial graph\")\n",
        "    db = Database(build[0][0])\n",
        "    if len(build) > 1:\n",
        "    \tdb.add_nodes(build[1:])\n",
        "    # Add extract\n",
        "    print(\"Edited graph\")\n",
        "    db.add_extract(extract)\n",
        "    # Graph edits\n",
        "    db.add_nodes(edits)\n",
        "    # Update status\n",
        "    status = db.get_extract_status()"
      ],
      "execution_count": 416,
      "outputs": [
        {
          "output_type": "stream",
          "text": [
            "Initial graph\n",
            "core\n",
            "├── A\n",
            "├── B\n",
            "└── C\n",
            "    └── C1\n",
            "Edited graph\n",
            "core\n",
            "├── A\n",
            "│   ├── A1\n",
            "│   └── A2\n",
            "├── B\n",
            "└── C\n",
            "    ├── C1\n",
            "    └── C2\n",
            "Result {'img001': 'granularity_staged', 'img002': 'coverage_staged', 'img003': 'invalid'}\n"
          ],
          "name": "stdout"
        }
      ]
    },
    {
      "cell_type": "markdown",
      "metadata": {
        "id": "og598uT_K0PE"
      },
      "source": [
        "# **Experiments**"
      ]
    },
    {
      "cell_type": "code",
      "metadata": {
        "id": "ZbKk5C9OOe4p"
      },
      "source": [
        "#read data and convert it to python dictionary\n",
        "expected_status = json.loads(open(base_path+\"expected_status.json\", \"r\").read())\n",
        "graph_build = json.loads(open(base_path+\"graph_build.json\", \"r\").read())\n",
        "graph_edits = json.loads(open(base_path+\"graph_edits.json\", \"r\").read())\n",
        "img_extract = json.loads(open(base_path+\"img_extract.json\", \"r\").read())"
      ],
      "execution_count": 408,
      "outputs": []
    },
    {
      "cell_type": "code",
      "metadata": {
        "id": "vpSiLeGEP2Qo",
        "outputId": "1307b5d3-7017-4bb0-9f8c-938984f1708b",
        "colab": {
          "base_uri": "https://localhost:8080/",
          "height": 957
        }
      },
      "source": [
        "# Initial graph\n",
        "build = graph_build\n",
        "# Extract\n",
        "extract = img_extract\n",
        "# Graph edits\n",
        "edits = graph_edits\n",
        "#self.status={0:'valid', 1:'granularity_staged', 2:'coverage_staged', 3:'invalid'}\n",
        "# Get status (this is only an example, test your code as you please as long as it works)\n",
        "status = {}\n",
        "if len(build) > 0:\n",
        "    # Build graph\n",
        "    print(\"Initial graph\")\n",
        "    db = Database(build[0][0])\n",
        "    if len(build) > 1:\n",
        "    \tdb.add_nodes(build[1:])\n",
        "    # Add extract\n",
        "    print(\"Edited graph\")\n",
        "    db.add_extract(extract)\n",
        "    # Graph edits\n",
        "    db.add_nodes(edits)\n",
        "    # Update status\n",
        "    status = db.get_extract_status()"
      ],
      "execution_count": 410,
      "outputs": [
        {
          "output_type": "stream",
          "text": [
            "Initial graph\n",
            "3e3e23bb16cc421eb5d245f5940281bc\n",
            "└── 59bea0d582874187b145899e0a511259\n",
            "    ├── 346430ad7b17455d8337b2ce1ab52fb4\n",
            "    │   ├── 0bb7e038a2f54e94972a67e45140128a\n",
            "    │   ├── 09e1b6fcd35240ceb80f8351f7864fdb\n",
            "    │   └── cb5e86852e7c41cfb8a23facc60cc450\n",
            "    ├── 3c97ca3bc62b4b3f909df9020bd6b977\n",
            "    │   ├── 1b0d3b51d37b490c9340e22cb4379822\n",
            "    │   ├── a7705367784a4023ae19639437c6fd0c\n",
            "    │   ├── babb9bbe7a014a66874baf56a5ea7c92\n",
            "    │   ├── e3c1f6e40a084c4586c8fec446a99fd8\n",
            "    │   └── cd86eaa970bd40c1aa16355e16e52fa5\n",
            "    ├── dade931dc992467c9ee406027a5888ea\n",
            "    ├── 189847a3f5e44a1aabf0b6f3a1878eef\n",
            "    └── 020cf926b12840b8aa553d8d5c8770d4\n",
            "        ├── 00c3d7df0fee4e139243afbca431ac58\n",
            "        ├── b5d78ac1e4304771af8f250a41b1d210\n",
            "        ├── 62983ac6deed46fbb4097c1e584fcc10\n",
            "        ├── 974cf0c5fee44c958c4154dfb6dacefc\n",
            "        └── 9d91ec7f8de745c1bb46ee7cd818b76f\n",
            "Edited graph\n",
            "3e3e23bb16cc421eb5d245f5940281bc\n",
            "├── 59bea0d582874187b145899e0a511259\n",
            "│   ├── 346430ad7b17455d8337b2ce1ab52fb4\n",
            "│   │   ├── 0bb7e038a2f54e94972a67e45140128a\n",
            "│   │   ├── 09e1b6fcd35240ceb80f8351f7864fdb\n",
            "│   │   └── cb5e86852e7c41cfb8a23facc60cc450\n",
            "│   │       ├── 6dddcb397d354d3d99646b1a3b7a1da0\n",
            "│   │       └── 091b7cf45c8b4647a442980c20c71a2a\n",
            "│   ├── 3c97ca3bc62b4b3f909df9020bd6b977\n",
            "│   │   ├── 1b0d3b51d37b490c9340e22cb4379822\n",
            "│   │   ├── a7705367784a4023ae19639437c6fd0c\n",
            "│   │   ├── babb9bbe7a014a66874baf56a5ea7c92\n",
            "│   │   ├── e3c1f6e40a084c4586c8fec446a99fd8\n",
            "│   │   └── cd86eaa970bd40c1aa16355e16e52fa5\n",
            "│   │       └── c10c1db2b49c4e56a17c6c6ab1c85396\n",
            "│   ├── dade931dc992467c9ee406027a5888ea\n",
            "│   ├── 189847a3f5e44a1aabf0b6f3a1878eef\n",
            "│   │   └── e8c1ea69b5824b218c0a692f70969f53\n",
            "│   ├── 020cf926b12840b8aa553d8d5c8770d4\n",
            "│   │   ├── 00c3d7df0fee4e139243afbca431ac58\n",
            "│   │   ├── b5d78ac1e4304771af8f250a41b1d210\n",
            "│   │   ├── 62983ac6deed46fbb4097c1e584fcc10\n",
            "│   │   │   └── fcedabff6331407f8c534e4582339de8\n",
            "│   │   ├── 974cf0c5fee44c958c4154dfb6dacefc\n",
            "│   │   └── 9d91ec7f8de745c1bb46ee7cd818b76f\n",
            "│   │       └── d457fea04728404ca2bace6612402640\n",
            "│   ├── 120d04b282fe4b33ab75cf54a47618db\n",
            "│   └── f65252d123204e96845e7dde6ed0c16f\n",
            "├── 80c37efb6aeb468085ff698b11a3c095\n",
            "└── 8f9493b389df4de494927e87e89eee09\n",
            "Result {'img0.jpg': 'coverage_staged', 'img1.jpg': 'granularity_staged', 'img2.jpg': 'granularity_staged', 'img3.jpg': 'valid', 'img4.jpg': 'coverage_staged', 'img5.jpg': 'granularity_staged', 'img6.jpg': 'valid', 'img7.jpg': 'coverage_staged', 'img8.jpg': 'valid', 'img9.jpg': 'valid', 'img10.jpg': 'coverage_staged', 'img11.jpg': 'coverage_staged', 'img12.jpg': 'valid', 'img13.jpg': 'coverage_staged', 'img14.jpg': 'coverage_staged', 'img15.jpg': 'valid', 'img16.jpg': 'valid', 'img17.jpg': 'coverage_staged', 'img18.jpg': 'coverage_staged', 'img19.jpg': 'valid', 'img20.jpg': 'invalid', 'img21.jpg': 'coverage_staged', 'img22.jpg': 'valid', 'img23.jpg': 'coverage_staged', 'img24.jpg': 'invalid', 'img25.jpg': 'valid', 'img26.jpg': 'coverage_staged', 'img27.jpg': 'coverage_staged', 'img28.jpg': 'valid', 'img29.jpg': 'valid', 'img30.jpg': 'granularity_staged', 'img31.jpg': 'coverage_staged', 'img32.jpg': 'coverage_staged', 'img33.jpg': 'granularity_staged', 'img34.jpg': 'coverage_staged', 'img35.jpg': 'invalid', 'img36.jpg': 'coverage_staged', 'img37.jpg': 'coverage_staged', 'img38.jpg': 'valid', 'img39.jpg': 'valid', 'img40.jpg': 'granularity_staged', 'img41.jpg': 'coverage_staged', 'img42.jpg': 'coverage_staged', 'img43.jpg': 'valid', 'img44.jpg': 'coverage_staged', 'img45.jpg': 'coverage_staged', 'img46.jpg': 'coverage_staged', 'img47.jpg': 'invalid', 'img48.jpg': 'valid', 'img49.jpg': 'granularity_staged', 'img50.jpg': 'invalid', 'img51.jpg': 'coverage_staged', 'img52.jpg': 'coverage_staged', 'img53.jpg': 'coverage_staged', 'img54.jpg': 'coverage_staged', 'img55.jpg': 'coverage_staged', 'img56.jpg': 'coverage_staged', 'img57.jpg': 'coverage_staged', 'img58.jpg': 'valid', 'img59.jpg': 'granularity_staged', 'img60.jpg': 'valid', 'img61.jpg': 'invalid', 'img62.jpg': 'coverage_staged', 'img63.jpg': 'coverage_staged', 'img64.jpg': 'valid', 'img65.jpg': 'valid', 'img66.jpg': 'coverage_staged', 'img67.jpg': 'coverage_staged', 'img68.jpg': 'coverage_staged', 'img69.jpg': 'coverage_staged', 'img70.jpg': 'granularity_staged', 'img71.jpg': 'coverage_staged', 'img72.jpg': 'granularity_staged', 'img73.jpg': 'valid', 'img74.jpg': 'coverage_staged', 'img75.jpg': 'granularity_staged', 'img76.jpg': 'coverage_staged', 'img77.jpg': 'coverage_staged', 'img78.jpg': 'valid', 'img79.jpg': 'coverage_staged', 'img80.jpg': 'valid', 'img81.jpg': 'coverage_staged', 'img82.jpg': 'granularity_staged', 'img83.jpg': 'valid', 'img84.jpg': 'coverage_staged', 'img85.jpg': 'coverage_staged', 'img86.jpg': 'valid', 'img87.jpg': 'granularity_staged', 'img88.jpg': 'granularity_staged', 'img89.jpg': 'granularity_staged', 'img90.jpg': 'valid', 'img91.jpg': 'valid', 'img92.jpg': 'invalid', 'img93.jpg': 'coverage_staged', 'img94.jpg': 'valid', 'img95.jpg': 'granularity_staged', 'img96.jpg': 'coverage_staged', 'img97.jpg': 'coverage_staged', 'img98.jpg': 'coverage_staged', 'img99.jpg': 'valid', 'img100.jpg': 'coverage_staged', 'img101.jpg': 'invalid', 'img102.jpg': 'coverage_staged', 'img103.jpg': 'granularity_staged', 'img104.jpg': 'coverage_staged', 'img105.jpg': 'granularity_staged', 'img106.jpg': 'coverage_staged', 'img107.jpg': 'coverage_staged', 'img108.jpg': 'valid', 'img109.jpg': 'coverage_staged', 'img110.jpg': 'coverage_staged', 'img111.jpg': 'valid', 'img112.jpg': 'valid', 'img113.jpg': 'coverage_staged', 'img114.jpg': 'coverage_staged', 'img115.jpg': 'granularity_staged', 'img116.jpg': 'valid', 'img117.jpg': 'granularity_staged', 'img118.jpg': 'coverage_staged', 'img119.jpg': 'granularity_staged', 'img120.jpg': 'coverage_staged', 'img121.jpg': 'valid', 'img122.jpg': 'coverage_staged', 'img123.jpg': 'coverage_staged', 'img124.jpg': 'coverage_staged', 'img125.jpg': 'granularity_staged', 'img126.jpg': 'coverage_staged', 'img127.jpg': 'granularity_staged', 'img128.jpg': 'coverage_staged', 'img129.jpg': 'coverage_staged', 'img130.jpg': 'coverage_staged', 'img131.jpg': 'coverage_staged', 'img132.jpg': 'coverage_staged', 'img133.jpg': 'valid', 'img134.jpg': 'granularity_staged', 'img135.jpg': 'granularity_staged', 'img136.jpg': 'granularity_staged', 'img137.jpg': 'coverage_staged', 'img138.jpg': 'valid', 'img139.jpg': 'coverage_staged', 'img140.jpg': 'invalid', 'img141.jpg': 'granularity_staged', 'img142.jpg': 'valid', 'img143.jpg': 'valid', 'img144.jpg': 'valid', 'img145.jpg': 'coverage_staged', 'img146.jpg': 'valid', 'img147.jpg': 'valid', 'img148.jpg': 'valid', 'img149.jpg': 'coverage_staged', 'img150.jpg': 'valid', 'img151.jpg': 'coverage_staged', 'img152.jpg': 'valid', 'img153.jpg': 'invalid', 'img154.jpg': 'coverage_staged', 'img155.jpg': 'coverage_staged', 'img156.jpg': 'coverage_staged', 'img157.jpg': 'coverage_staged', 'img158.jpg': 'valid', 'img159.jpg': 'coverage_staged', 'img160.jpg': 'coverage_staged', 'img161.jpg': 'granularity_staged', 'img162.jpg': 'coverage_staged', 'img163.jpg': 'coverage_staged', 'img164.jpg': 'valid', 'img165.jpg': 'granularity_staged', 'img166.jpg': 'coverage_staged', 'img167.jpg': 'granularity_staged', 'img168.jpg': 'valid', 'img169.jpg': 'valid', 'img170.jpg': 'valid', 'img171.jpg': 'granularity_staged', 'img172.jpg': 'valid', 'img173.jpg': 'valid', 'img174.jpg': 'valid', 'img175.jpg': 'coverage_staged', 'img176.jpg': 'granularity_staged', 'img177.jpg': 'coverage_staged', 'img178.jpg': 'coverage_staged', 'img179.jpg': 'valid', 'img180.jpg': 'granularity_staged', 'img181.jpg': 'granularity_staged', 'img182.jpg': 'coverage_staged', 'img183.jpg': 'coverage_staged', 'img184.jpg': 'coverage_staged', 'img185.jpg': 'coverage_staged', 'img186.jpg': 'coverage_staged', 'img187.jpg': 'invalid', 'img188.jpg': 'coverage_staged', 'img189.jpg': 'granularity_staged', 'img190.jpg': 'coverage_staged', 'img191.jpg': 'coverage_staged', 'img192.jpg': 'granularity_staged', 'img193.jpg': 'coverage_staged', 'img194.jpg': 'valid', 'img195.jpg': 'granularity_staged', 'img196.jpg': 'valid', 'img197.jpg': 'valid', 'img198.jpg': 'coverage_staged', 'img199.jpg': 'coverage_staged'}\n"
          ],
          "name": "stdout"
        }
      ]
    },
    {
      "cell_type": "code",
      "metadata": {
        "id": "c4nlRERaSQmk",
        "outputId": "13522eb5-3eda-4f90-e135-76a92f8bcb8c",
        "colab": {
          "base_uri": "https://localhost:8080/",
          "height": 34
        }
      },
      "source": [
        " #Status VS expected_status comparaison\n",
        " status == expected_status"
      ],
      "execution_count": 400,
      "outputs": [
        {
          "output_type": "execute_result",
          "data": {
            "text/plain": [
              "True"
            ]
          },
          "metadata": {
            "tags": []
          },
          "execution_count": 400
        }
      ]
    }
  ]
}